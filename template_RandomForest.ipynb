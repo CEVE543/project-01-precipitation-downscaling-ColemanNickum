{
  "cells": [
    {
      "cell_type": "raw",
      "id": "7f6135fe",
      "metadata": {},
      "source": [
        "---\n",
        "title: Project 1\n",
        "subtitle: 'Bias Correction: Quantile Quantile Mapping'\n",
        "date: '2023-11-13'\n",
        "author: Coleman Nickum (CN33)\n",
        "number-sections: true\n",
        "code-annotations: hover\n",
        "kind: Project\n",
        "Module: '2'\n",
        "categories:\n",
        "  - Module 2\n",
        "  - Project\n",
        "format:\n",
        "  html:\n",
        "    toc-depth: 3\n",
        "  docx:\n",
        "    toc: true\n",
        "    toc-depth: 3\n",
        "    fig-format: png\n",
        "---"
      ]
    },
    {
      "cell_type": "markdown",
      "id": "d120e01a",
      "metadata": {},
      "source": [
        "# Setup\n"
      ]
    },
    {
      "cell_type": "code",
      "execution_count": null,
      "id": "9e9cf276",
      "metadata": {
        "vscode": {
          "languageId": "julia"
        }
      },
      "outputs": [],
      "source": [
        "import DecisionTree\n",
        "import Random"
      ]
    },
    {
      "cell_type": "code",
      "execution_count": null,
      "id": "9d163eed",
      "metadata": {
        "vscode": {
          "languageId": "julia"
        }
      },
      "outputs": [],
      "source": [
        "#| output: false\n",
        "using Dates\n",
        "using MultivariateStats\n",
        "using Plots\n",
        "using NCDatasets\n",
        "using StatsBase\n",
        "using Unitful\n",
        "using DataFrames\n",
        "using Statistics\n",
        "using DecisionTree\n",
        "using Random"
      ]
    },
    {
      "cell_type": "markdown",
      "id": "0579851c",
      "metadata": {},
      "source": [
        "# Precipitation Data: ERA5 Reanalysis Dataset \n"
      ]
    },
    {
      "cell_type": "code",
      "execution_count": null,
      "id": "1911c5f7",
      "metadata": {
        "vscode": {
          "languageId": "julia"
        }
      },
      "outputs": [],
      "source": [
        "# Dataset covers daily precipitation (mm) from 1/1/1979 to 12/31/2020\n",
        "ds_precip = NCDataset(\"/Users/coleman/Documents/GitHub/project-01-precipitation-downscaling-ColemanNickum/data/raw/precip.nc\")\n",
        "println(ds_precip)"
      ]
    },
    {
      "cell_type": "code",
      "execution_count": null,
      "id": "17e03fb4",
      "metadata": {
        "vscode": {
          "languageId": "julia"
        }
      },
      "outputs": [],
      "source": [
        "precip_time = ds_precip[\"time\"][:];\n",
        "precip_lon = ds_precip[\"lon\"][:];\n",
        "precip_lat = ds_precip[\"lat\"][:];\n",
        "precip = ds_precip[\"precip\"][:,:,:];"
      ]
    },
    {
      "cell_type": "code",
      "execution_count": null,
      "id": "45dbf3e5",
      "metadata": {
        "vscode": {
          "languageId": "julia"
        }
      },
      "outputs": [],
      "source": [
        "precip = precip .* 1u\"mm\";"
      ]
    },
    {
      "cell_type": "code",
      "execution_count": null,
      "id": "d27520a9",
      "metadata": {
        "vscode": {
          "languageId": "julia"
        }
      },
      "outputs": [],
      "source": [
        "precip_lat = reverse(precip_lat)\n",
        "precip = reverse(precip, dims=2);"
      ]
    },
    {
      "cell_type": "markdown",
      "id": "ee73db08",
      "metadata": {},
      "source": [
        "## Precipitation Heatmap: Past vs Present\n"
      ]
    },
    {
      "cell_type": "code",
      "execution_count": null,
      "id": "aa5446a4",
      "metadata": {
        "vscode": {
          "languageId": "julia"
        }
      },
      "outputs": [],
      "source": [
        "h1 = heatmap(\n",
        "    precip_lon,\n",
        "    precip_lat,\n",
        "    precip[:, :, 1]';\n",
        "    xlabel=\"Longitude\",\n",
        "    ylabel=\"Latitude\",\n",
        "    title=\"Precipitation on 1/1/1979\"\n",
        ")\n",
        "\n",
        "h2 = heatmap(\n",
        "    precip_lon,\n",
        "    precip_lat,\n",
        "    precip[:, :, end]';\n",
        "    xlabel=\"Longitude\",\n",
        "    ylabel=\"Latitude\",\n",
        "    title=\"Precipitation on 12/31/2020\"\n",
        ")\n",
        "plot(h1, h2; layout=(1, 2), size=(900, 400))"
      ]
    },
    {
      "cell_type": "code",
      "execution_count": null,
      "id": "c9fec164",
      "metadata": {
        "vscode": {
          "languageId": "julia"
        }
      },
      "outputs": [],
      "source": [
        "close(ds_precip)"
      ]
    },
    {
      "cell_type": "markdown",
      "id": "d53378ec",
      "metadata": {},
      "source": [
        "# Temperature Data: ERA5 Reanalysis Dataset \n"
      ]
    },
    {
      "cell_type": "code",
      "execution_count": null,
      "id": "5dd5fc75",
      "metadata": {
        "vscode": {
          "languageId": "julia"
        }
      },
      "outputs": [],
      "source": [
        "# Dataset covers daily temperature (Kelvin) from 1/1/1979 to 12/31/2020\n",
        "ds_temp = NCDataset(\"/Users/coleman/Documents/GitHub/project-01-precipitation-downscaling-ColemanNickum/data/raw/temp.nc\")\n",
        "println(ds_temp)"
      ]
    },
    {
      "cell_type": "code",
      "execution_count": null,
      "id": "6f67486b",
      "metadata": {
        "vscode": {
          "languageId": "julia"
        }
      },
      "outputs": [],
      "source": [
        "temp_time = ds_temp[\"time\"][:];\n",
        "temp_lon = ds_temp[\"longitude\"][:];\n",
        "temp_lat = ds_temp[\"latitude\"][:];\n",
        "temp = ds_temp[\"t2m\"][:,:,:];"
      ]
    },
    {
      "cell_type": "code",
      "execution_count": null,
      "id": "7a78c6b2",
      "metadata": {
        "vscode": {
          "languageId": "julia"
        }
      },
      "outputs": [],
      "source": [
        "temp_lat = reverse(temp_lat)\n",
        "temp = reverse(temp, dims=2);"
      ]
    },
    {
      "cell_type": "markdown",
      "id": "347c6a76",
      "metadata": {},
      "source": [
        "## Temperature Heatmap: Past vs Present\n"
      ]
    },
    {
      "cell_type": "code",
      "execution_count": null,
      "id": "a80100b8",
      "metadata": {
        "vscode": {
          "languageId": "julia"
        }
      },
      "outputs": [],
      "source": [
        "h1 = heatmap(\n",
        "    temp_lon,\n",
        "    temp_lat,\n",
        "    temp[:, :, 1]';\n",
        "    xlabel=\"Longitude\",\n",
        "    ylabel=\"Latitude\",\n",
        "    title=\"Temperature on 1/1/1979\"\n",
        ")\n",
        "\n",
        "h2 = heatmap(\n",
        "    temp_lon,\n",
        "    temp_lat,\n",
        "    temp[:, :, end]';\n",
        "    xlabel=\"Longitude\",\n",
        "    ylabel=\"Latitude\",\n",
        "    title=\"Temperature on 12/31/2020\"\n",
        ")\n",
        "plot(h1, h2; layout=(1, 2), size=(900, 400))"
      ]
    },
    {
      "cell_type": "markdown",
      "id": "19ad20bf",
      "metadata": {},
      "source": [
        "## Ensuring temperature and precipitation correspond to the same time period\n"
      ]
    },
    {
      "cell_type": "code",
      "execution_count": null,
      "id": "1eccf67c",
      "metadata": {
        "vscode": {
          "languageId": "julia"
        }
      },
      "outputs": [],
      "source": [
        "@assert temp_time == precip_time"
      ]
    },
    {
      "cell_type": "code",
      "execution_count": null,
      "id": "2032de0d",
      "metadata": {
        "vscode": {
          "languageId": "julia"
        }
      },
      "outputs": [],
      "source": [
        "time_data = Dates.Date.(temp_time)"
      ]
    },
    {
      "cell_type": "markdown",
      "id": "ed52f29b",
      "metadata": {},
      "source": [
        "# Splitting Data: Training Period vs Testing Period\n"
      ]
    },
    {
      "cell_type": "code",
      "execution_count": null,
      "id": "98b3ecd1",
      "metadata": {
        "vscode": {
          "languageId": "julia"
        }
      },
      "outputs": [],
      "source": [
        "# Performing a typical split ratio (roughly 70:30) for training and testing data collected from 1979 to 2021. With 42 years of data, the training dataset will encompass 30 years and the testing period will be 12 years (2009 to 2021)\n",
        "split_idx = findfirst(time_data .== time_data[end] - Dates.Year(10))\n",
        "train_idx = 1:split_idx\n",
        "test_idx = (split_idx+1):length(time_data);"
      ]
    },
    {
      "cell_type": "markdown",
      "id": "ced8a20a",
      "metadata": {},
      "source": [
        "## Testing and Training Period Variables\n"
      ]
    },
    {
      "cell_type": "code",
      "execution_count": null,
      "id": "b3454c14",
      "metadata": {
        "vscode": {
          "languageId": "julia"
        }
      },
      "outputs": [],
      "source": [
        "precip_train = precip[:, :, train_idx];\n",
        "precip_test = precip[:, :, test_idx];\n",
        "temp_train = temp[:, :, train_idx];\n",
        "temp_test = temp[:, :, test_idx];"
      ]
    },
    {
      "cell_type": "markdown",
      "id": "068acb97",
      "metadata": {},
      "source": [
        "# Preprocessing Data: Climatology and Mean Centering\n"
      ]
    },
    {
      "cell_type": "code",
      "execution_count": null,
      "id": "239318a5",
      "metadata": {
        "vscode": {
          "languageId": "julia"
        }
      },
      "outputs": [],
      "source": [
        "function preprocess(temp::Array{T, 3}, temp_reference::Array{T, 3})::AbstractMatrix where T\n",
        "#Computing anomalies that removes climatology from our matrix to allow greater clarity of temperature variations by removing the influence of climate patterns\n",
        "climatology = mean(temp_reference, dims=3)\n",
        "anomalies = temp .- climatology\n",
        "\n",
        "#Reshaping our temperature dataset to produce a 2D matrix of time (rows) and locations (columns): \n",
        "temp_mat = reshape(anomalies, size(temp, 1) * size(temp, 2), size(temp, 3))\n",
        "    return temp_mat\n",
        "end"
      ]
    },
    {
      "cell_type": "markdown",
      "id": "5644fe43",
      "metadata": {},
      "source": [
        "## Apply to Training and Testing Datasets\n"
      ]
    },
    {
      "cell_type": "code",
      "execution_count": null,
      "id": "314d9a73",
      "metadata": {
        "vscode": {
          "languageId": "julia"
        }
      },
      "outputs": [],
      "source": [
        "#Preprocessing temp_train and temp_test; both are preprocessed to the temp training data so they both use the same climatology\n",
        "n_lon, n_lat, n_t = size(temp)\n",
        "temp_training_matrix = preprocess(temp_train, temp_train);\n",
        "temp_testing_matrix = preprocess(temp_test, temp_train);"
      ]
    },
    {
      "cell_type": "markdown",
      "id": "b2145e8a",
      "metadata": {},
      "source": [
        "# Principle Component Analysis\n",
        "## Fitting\n"
      ]
    },
    {
      "cell_type": "code",
      "execution_count": null,
      "id": "e41bc223",
      "metadata": {
        "vscode": {
          "languageId": "julia"
        }
      },
      "outputs": [],
      "source": [
        "#Fitting a PCA model to training period to automatically choose the number of principle components\n",
        "PCA_model = fit(PCA, temp_training_matrix; maxoutdim=10, pratio=0.999);"
      ]
    },
    {
      "cell_type": "markdown",
      "id": "282e438a",
      "metadata": {},
      "source": [
        "## Plotting Variance Explained by PCs\n"
      ]
    },
    {
      "cell_type": "code",
      "execution_count": null,
      "id": "e5eb662a",
      "metadata": {
        "vscode": {
          "languageId": "julia"
        }
      },
      "outputs": [],
      "source": [
        "# Variables for plotting the variance accounted by the principle components \n",
        "variance_explained = principalvars(PCA_model)\n",
        "total_var = var(PCA_model)\n",
        "cumulative_var = cumsum(variance_explained)./total_var"
      ]
    },
    {
      "cell_type": "code",
      "execution_count": null,
      "id": "33e90846",
      "metadata": {
        "vscode": {
          "languageId": "julia"
        }
      },
      "outputs": [],
      "source": [
        "p1 = plot(\n",
        "    variance_explained / total_var;\n",
        "    xlabel=\"Number of PCs\",\n",
        "    ylabel=\"Fraction of Variance Explained\",\n",
        "    label=false,\n",
        "    title=\"Variance Explained\"\n",
        ")\n",
        "p2 = plot(\n",
        "    cumulative_var;\n",
        "    xlabel=\"Number of PCs\",\n",
        "    ylabel=\"Fraction of Variance Explained\",\n",
        "    label=false,\n",
        "    title=\"Cumulative Variance Explained\"\n",
        ")\n",
        "plot(p1, p2; layout=(1, 2), size=(900, 400))"
      ]
    },
    {
      "cell_type": "markdown",
      "id": "8d2228de",
      "metadata": {},
      "source": [
        ":::{.callout-note}\n",
        "------------------------------------------------------------------\n",
        "I chose to select 4 principle components because, after plotting the cumulative variance explained, the 4 principle components accounted for a cumulative variance of 0.95 and retains enough information while also reducing the noise of outiers.\n",
        ":::\n",
        "\n",
        "## Plotting Spatial Patterns\n"
      ]
    },
    {
      "cell_type": "code",
      "execution_count": null,
      "id": "be4c4e0e",
      "metadata": {
        "vscode": {
          "languageId": "julia"
        }
      },
      "outputs": [],
      "source": [
        "p = [] \n",
        "for i in 1:4\n",
        "    pc = projection(PCA_model)[:, i]\n",
        "    pc_reshaped = reshape(pc, n_lon, n_lat)'\n",
        "    pi = heatmap(\n",
        "        temp_lon,\n",
        "        temp_lat,\n",
        "        pc_reshaped;\n",
        "        xlabel=\"Longitude\",\n",
        "        ylabel=\"Latitude\",\n",
        "        title=\"PC $i\",\n",
        "        aspect_ratio=:equal,\n",
        "        cmap=:PuOr\n",
        "    )\n",
        "    push!(p, pi)\n",
        "end\n",
        "plot(p...; layout=(1, 4), size=(1500, 600))"
      ]
    },
    {
      "cell_type": "markdown",
      "id": "366a40b6",
      "metadata": {},
      "source": [
        "## Plotting Time Series\n"
      ]
    },
    {
      "cell_type": "code",
      "execution_count": null,
      "id": "dd00b631",
      "metadata": {
        "vscode": {
          "languageId": "julia"
        }
      },
      "outputs": [],
      "source": [
        "Months = Dates.month.(time_data)\n",
        "custom_xticks = [1, 3, 6, 9, 12]\n",
        "p = []\n",
        "for i in 1:4\n",
        "    pi = scatter(\n",
        "        Months,\n",
        "        pc_ts[i, :];\n",
        "        xlabel=\"Months in Year\",\n",
        "        ylabel=\"PC $i\",\n",
        "        title=\"PC $i\",\n",
        "        label=false,\n",
        "        alpha=0.3,\n",
        "        color=:blue,\n",
        "        xticks=(custom_xticks, custom_xticks)\n",
        "    )\n",
        "    push!(p, pi)\n",
        "end\n",
        "plot(p...; layout=(1, 4), size=(1800, 600))"
      ]
    },
    {
      "cell_type": "markdown",
      "id": "6a372b0b",
      "metadata": {},
      "source": [
        "# Scatter Plots: Comparison of Influence on Rainfall\n"
      ]
    },
    {
      "cell_type": "code",
      "execution_count": null,
      "id": "b77682ac",
      "metadata": {
        "vscode": {
          "languageId": "julia"
        }
      },
      "outputs": [],
      "source": [
        "avg_precip =\n",
        "    ustrip.(\n",
        "        u\"mm\", [mean(skipmissing(precip_train[:, :, t])) for t in 1:size(precip_train, 3)]\n",
        "    )\n",
        "avg_precip = replace(avg_precip, NaN => 0)\n",
        "\n",
        "p1_idx = findall(avg_precip .> quantile(avg_precip, 0.98))\n",
        "p1 = scatter(\n",
        "    pc_ts[2, p1_idx],\n",
        "    pc_ts[3, p1_idx];\n",
        "    zcolor=avg_precip[p1_idx],\n",
        "    xlabel=\"PC 2\",\n",
        "    ylabel=\"PC 3\",\n",
        "    markersize=5,\n",
        "    clims=(0, 2.75),\n",
        "    title=\"Rainy Days\",\n",
        "    label=false\n",
        ")\n",
        "\n",
        "p2_idx = findall(avg_precip .> quantile(avg_precip, 0.98))\n",
        "p2 = scatter(\n",
        "    pc_ts[4, p2_idx],\n",
        "    pc_ts[3, p2_idx];\n",
        "    zcolor=avg_precip[p2_idx],\n",
        "    xlabel=\"PC 4\",\n",
        "    ylabel=\"PC 3\",\n",
        "    markersize=5,\n",
        "    clims=(0, 2.75),\n",
        "    title=\"Rainy Days\",\n",
        "    label=false\n",
        ")\n",
        "\n",
        "p3_idx = findall(avg_precip .> quantile(avg_precip, 0.98))\n",
        "p3 = scatter(\n",
        "    pc_ts[4, p3_idx],\n",
        "    pc_ts[2, p3_idx];\n",
        "    zcolor=avg_precip[p3_idx],\n",
        "    xlabel=\"PC 4\",\n",
        "    ylabel=\"PC 2\",\n",
        "    markersize=5,\n",
        "    clims=(0, 2.75),\n",
        "    title=\"Rainy Days\",\n",
        "    label=false\n",
        ")\n",
        "plot(p1,p2, p3; size=(1000, 600), link=:both)"
      ]
    },
    {
      "cell_type": "markdown",
      "id": "68d58847",
      "metadata": {},
      "source": [
        "# Random Forest Model\n"
      ]
    },
    {
      "cell_type": "code",
      "execution_count": null,
      "id": "a13d2eeb",
      "metadata": {
        "vscode": {
          "languageId": "julia"
        }
      },
      "outputs": [],
      "source": [
        "    y_train = [mean(skipmissing(precip_train[:, :, t])) for t in 1:size(precip_train, 3)]\n",
        "    mean_y_train = mean(skipmissing(y_train))\n",
        "    y_train_no_missing = coalesce.(y_train, mean_y_train)"
      ]
    },
    {
      "cell_type": "code",
      "execution_count": null,
      "id": "90e6c4d6",
      "metadata": {
        "vscode": {
          "languageId": "julia"
        }
      },
      "outputs": [],
      "source": [
        "X_train_pca = preprocess(temp_train, temp_train);\n",
        "X_test_pca = preprocess(temp_test, temp_train);"
      ]
    },
    {
      "cell_type": "code",
      "execution_count": null,
      "id": "5c4bd04f",
      "metadata": {
        "vscode": {
          "languageId": "julia"
        }
      },
      "outputs": [],
      "source": [
        "    PCA_model = fit(PCA, X_train_pca)"
      ]
    },
    {
      "cell_type": "code",
      "execution_count": null,
      "id": "fae4c8ca",
      "metadata": {
        "vscode": {
          "languageId": "julia"
        }
      },
      "outputs": [],
      "source": [
        "    train_embedded = predict(PCA_model, X_train_pca)\n",
        "    test_embedded = predict(PCA_model, X_test_pca)"
      ]
    },
    {
      "cell_type": "markdown",
      "id": "f745ae57",
      "metadata": {},
      "source": [
        "## Random Forest Model Training\n"
      ]
    },
    {
      "cell_type": "code",
      "execution_count": null,
      "id": "f77abb26",
      "metadata": {
        "vscode": {
          "languageId": "julia"
        }
      },
      "outputs": [],
      "source": [
        "function train_random_forest(temp_train, temp_test, precip_train, precip_test; n_pca::Int, n_trees)\n",
        "    X_train_pca = preprocess(temp_train, temp_test)\n",
        "    X_test_pca = preprocess(temp_test, temp_train)\n",
        "    \n",
        "    PCA_model = fit(PCA, X_train_pca, maxoutdim=n_pca)\n",
        "\n",
        "    y_train = [mean(skipmissing(precip_train[:, :, t])) for t in 1:size(precip_train, 3)]\n",
        "\n",
        "    # Flatten to 2D arrays\n",
        "    train_embedded = predict(PCA_model, X_train_pca)\n",
        "    test_embedded = predict(PCA_model, X_test_pca)\n",
        "\n",
        "    \n",
        "    mean_y_train = mean(skipmissing(y_train))\n",
        "    y_train_no_missing = coalesce.(y_train, mean_y_train)\n",
        "\n",
        "    # Train the Random Forest model\n",
        "    rf_model = DecisionTree.build_forest(\n",
        "        y_train_no_missing,\n",
        "        train_embedded[:, :, findall(!ismissing, y_train)],\n",
        "        n_trees\n",
        "    )\n",
        "    return rf_model\n",
        "end"
      ]
    },
    {
      "cell_type": "code",
      "execution_count": null,
      "id": "fa858b94",
      "metadata": {
        "vscode": {
          "languageId": "julia"
        }
      },
      "outputs": [],
      "source": [
        "RF_model = train_random_forest(temp_train, precip_train, temp_test, precip_test, 10, 100)\n",
        "\n",
        "precip_pred = DecisionTree.apply_forest(RF_model, test_embedded)"
      ]
    },
    {
      "cell_type": "markdown",
      "id": "6e9873e9",
      "metadata": {},
      "source": [
        "# Quantile-Quantile Mapping: Bias Correction\n"
      ]
    },
    {
      "cell_type": "code",
      "execution_count": null,
      "id": "c9669097",
      "metadata": {
        "vscode": {
          "languageId": "julia"
        }
      },
      "outputs": [],
      "source": [
        "   precip_pred = train_random_forest(temp_train, temp_test[:,:, 17:18], precip_train, precip_test; n_pca=4, n_trees=100)\n",
        "    y_pred = precip_pred[1]  # Assuming the model returns y_pred directly\n",
        "\n",
        "    y_actual = precip_test[:,:,1]\n",
        "\n",
        "    y_pred_corrected = reshape(y_pred, length(precip_lon)*length(precip_lat))\n",
        "    q = 0.5  # Use the desired quantile\n",
        "    quantile_pred = quantile(skipmissing(y_pred), q)\n",
        "\n",
        "    for i in 1:length(y_pred_corrected)\n",
        "        if !ismissing(y_pred_corrected[i])\n",
        "            point_quantile = searchsortedfirst(sort(y_pred_corrected), y_pred_corrected[i]) / length(y_pred_corrected)\n",
        "            quantile_actual = quantile(skipmissing(y_actual), point_quantile)\n",
        "            y_pred_corrected[i] = quantile_actual\n",
        "        end \n",
        "    end\n",
        "    y_pred_corrected = reshape(y_pred_corrected, length(precip_lon), length(precip_lat))"
      ]
    },
    {
      "cell_type": "markdown",
      "id": "610bf6e5",
      "metadata": {},
      "source": [
        "# K-NN Model: Resampling Algorithm\n"
      ]
    },
    {
      "cell_type": "code",
      "execution_count": null,
      "id": "afdd6e61",
      "metadata": {
        "vscode": {
          "languageId": "julia"
        }
      },
      "outputs": [],
      "source": [
        "function euclidean_distance(x::AbstractVector, y::AbstractVector)::AbstractFloat\n",
        "    return sqrt(sum((x .- y) .^ 2))\n",
        "end\n",
        "\n",
        "function nsmallest(x::AbstractVector, n::Int)::Vector{Int}\n",
        "    idx = sortperm(x)\n",
        "    return idx[1:n]\n",
        "end\n",
        "\n",
        "function knn(X::AbstractMatrix, X_i::AbstractVector, K::Int)::Tuple{Int,AbstractVector}\n",
        "    # calculate the distances between X_i and each row of X\n",
        "    dist = [euclidean_distance(X_i, X[j, :]) for j in 1:size(X, 1)]\n",
        "    idx = nsmallest(dist, K)\n",
        "    w = 1 ./ dist[idx]\n",
        "    w ./= sum(w)\n",
        "    idx_sample = sample(idx, Weights(w))\n",
        "    return (idx_sample, vec(X[idx_sample, :]))\n",
        "end"
      ]
    },
    {
      "cell_type": "markdown",
      "id": "025900ea",
      "metadata": {},
      "source": [
        "## Combining KNN and PCA\n"
      ]
    },
    {
      "cell_type": "code",
      "execution_count": null,
      "id": "41112f69",
      "metadata": {
        "vscode": {
          "languageId": "julia"
        }
      },
      "outputs": [],
      "source": [
        "\"\"\"\n",
        "KNN resampling algorithm\n",
        "\n",
        "temp_train: the training temperature data. This should be the raw field, not the prinipal components. Inside the function, convert to principal components using `n_pca` principal components. \n",
        "temp_test: the temperature data to predict. This should be the raw field, not the prinipal components. Inside the function, convert to principal components using `n_pca` principal components.\n",
        "precip_train: the training precipitation data.\n",
        "\"\"\"\n",
        "function predict_knn(temp_train, temp_test, precip_train; n_pca::Int)\n",
        "    X_train = preprocess(temp_train, temp_train)\n",
        "    X_test = preprocess(temp_test, temp_train)\n",
        "\n",
        "    # fit the PCA model to the training data\n",
        "    pca_model = fit(PCA, X_train; maxoutdim=n_pca)\n",
        "\n",
        "    # project the test data onto the PCA basis\n",
        "    train_embedded = predict(pca_model, X_train)\n",
        "    test_embedded = predict(pca_model, X_test)\n",
        "\n",
        "    # use the `knn` function for each point in the test data\n",
        "    precip_pred = map(1:size(X_test, 2)) do i\n",
        "        idx, _ = knn(train_embedded', test_embedded[:, i], 3)\n",
        "        precip_train[:, :, idx]\n",
        "    end\n",
        "\n",
        "    # return a matrix of predictions\n",
        "    return precip_pred\n",
        "end"
      ]
    },
    {
      "cell_type": "markdown",
      "id": "dab7b1a5",
      "metadata": {},
      "source": [
        "## Predicted vs. Actual Values\n"
      ]
    },
    {
      "cell_type": "code",
      "execution_count": null,
      "id": "7d4a2278",
      "metadata": {
        "vscode": {
          "languageId": "julia"
        }
      },
      "outputs": [],
      "source": [
        "t_sample = rand(1:size(temp_test, 3), 4)\n",
        "precip_pred = predict_knn(temp_train, temp_test[:, :, t_sample], precip_train; n_pca=4)\n",
        "\n",
        "p = map(eachindex(t_sample)) do ti\n",
        "    t = t_sample[ti]\n",
        "    y_pred = precip_pred[ti]'\n",
        "    y_actual = precip_test[:, :, t]'\n",
        "    cmax = max(maximum(skipmissing(y_pred)), maximum(skipmissing(y_actual)))\n",
        "    cmax = ustrip(u\"mm\", cmax)\n",
        "\n",
        "    p1 = heatmap(\n",
        "        precip_lon,\n",
        "        precip_lat,\n",
        "        y_pred;\n",
        "        xlabel=\"Longitude\",\n",
        "        ylabel=\"Latitude\",\n",
        "        title=\"Predicted\",\n",
        "        aspect_ratio=:equal,\n",
        "        clims=(0, cmax)\n",
        "    )\n",
        "    p2 = heatmap(\n",
        "        precip_lon,\n",
        "        precip_lat,\n",
        "        y_actual;\n",
        "        xlabel=\"Longitude\",\n",
        "        ylabel=\"Latitude\",\n",
        "        title=\"Actual\",\n",
        "        aspect_ratio=:equal,\n",
        "        clims=(0, cmax)\n",
        "    )\n",
        "    plot(p1, p2; layout=(2, 1), size=(1000, 400))\n",
        "end\n",
        "plot(p...; layout=(2, 3), size=(1500, 1200))"
      ]
    }
  ],
  "metadata": {
    "kernelspec": {
      "display_name": "Julia 1.9.3",
      "language": "julia",
      "name": "julia-1.9"
    }
  },
  "nbformat": 4,
  "nbformat_minor": 5
}
